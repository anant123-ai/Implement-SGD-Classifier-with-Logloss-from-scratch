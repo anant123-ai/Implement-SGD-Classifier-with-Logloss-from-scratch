{
 "cells": [
  {
   "cell_type": "code",
   "execution_count": 0,
   "metadata": {
    "colab": {},
    "colab_type": "code",
    "id": "I2S-uFqwSvmg"
   },
   "outputs": [],
   "source": [
    "import numpy as np\n",
    "import pandas as pd\n",
    "from sklearn.datasets import make_classification"
   ]
  },
  {
   "cell_type": "code",
   "execution_count": 0,
   "metadata": {
    "colab": {},
    "colab_type": "code",
    "id": "FUxLkBjISvmr"
   },
   "outputs": [],
   "source": [
    "X, y = make_classification(n_samples=50000, n_features=15, n_informative=10, n_redundant=5,\n",
    "                           n_classes=2, weights=[0.7], class_sep=0.7, random_state=15)"
   ]
  },
  {
   "cell_type": "code",
   "execution_count": 73,
   "metadata": {
    "colab": {
     "base_uri": "https://localhost:8080/",
     "height": 34
    },
    "colab_type": "code",
    "id": "xexp5GYNSvmz",
    "outputId": "fa6ffd4e-02ef-45c9-b26e-906f2ebe0016"
   },
   "outputs": [
    {
     "data": {
      "text/plain": [
       "((50000, 15), (50000,))"
      ]
     },
     "execution_count": 73,
     "metadata": {
      "tags": []
     },
     "output_type": "execute_result"
    }
   ],
   "source": [
    "X.shape, y.shape"
   ]
  },
  {
   "cell_type": "markdown",
   "metadata": {
    "colab_type": "text",
    "id": "54vJVc_KSvm9"
   },
   "source": [
    " "
   ]
  },
  {
   "cell_type": "code",
   "execution_count": 0,
   "metadata": {
    "colab": {},
    "colab_type": "code",
    "id": "9pKAn1-ASvm_"
   },
   "outputs": [],
   "source": [
    "from sklearn.model_selection import train_test_split"
   ]
  },
  {
   "cell_type": "code",
   "execution_count": 0,
   "metadata": {
    "colab": {},
    "colab_type": "code",
    "id": "r97pFTgrSvnE"
   },
   "outputs": [],
   "source": [
    "X_train, X_test, y_train, y_test = train_test_split(X, y, test_size=0.25, random_state=15)"
   ]
  },
  {
   "cell_type": "code",
   "execution_count": 76,
   "metadata": {
    "colab": {
     "base_uri": "https://localhost:8080/",
     "height": 34
    },
    "colab_type": "code",
    "id": "jykLIXZNSvnJ",
    "outputId": "fc334b23-cfa4-4408-92c4-d59babe4be6c"
   },
   "outputs": [
    {
     "data": {
      "text/plain": [
       "((37500, 15), (37500,), (12500, 15), (12500,))"
      ]
     },
     "execution_count": 76,
     "metadata": {
      "tags": []
     },
     "output_type": "execute_result"
    }
   ],
   "source": [
    "X_train.shape, y_train.shape, X_test.shape, y_test.shape"
   ]
  },
  {
   "cell_type": "markdown",
   "metadata": {
    "colab_type": "text",
    "id": "g0-M6oXASvnO"
   },
   "source": [
    " "
   ]
  },
  {
   "cell_type": "code",
   "execution_count": 0,
   "metadata": {
    "colab": {},
    "colab_type": "code",
    "id": "sShoMeocSvnP"
   },
   "outputs": [],
   "source": [
    "from sklearn import linear_model"
   ]
  },
  {
   "cell_type": "code",
   "execution_count": 78,
   "metadata": {
    "colab": {
     "base_uri": "https://localhost:8080/",
     "height": 119
    },
    "colab_type": "code",
    "id": "gm6wi8L2SvnU",
    "outputId": "5b1a72cb-5fbd-459a-931a-6c78f1d5c78b"
   },
   "outputs": [
    {
     "data": {
      "text/plain": [
       "SGDClassifier(alpha=0.0001, average=False, class_weight=None,\n",
       "              early_stopping=False, epsilon=0.1, eta0=0.0001,\n",
       "              fit_intercept=True, l1_ratio=0.15, learning_rate='constant',\n",
       "              loss='log', max_iter=1000, n_iter_no_change=5, n_jobs=None,\n",
       "              penalty='l2', power_t=0.5, random_state=15, shuffle=True,\n",
       "              tol=0.001, validation_fraction=0.1, verbose=2, warm_start=False)"
      ]
     },
     "execution_count": 78,
     "metadata": {
      "tags": []
     },
     "output_type": "execute_result"
    }
   ],
   "source": [
    "# alpha : float\n",
    "# Constant that multiplies the regularization term. \n",
    "\n",
    "# eta0 : double\n",
    "# The initial learning rate for the ‘constant’, ‘invscaling’ or ‘adaptive’ schedules.\n",
    "\n",
    "clf = linear_model.SGDClassifier(eta0=0.0001, alpha=0.0001, loss='log', random_state=15, penalty='l2', tol=1e-3, verbose=2, learning_rate='constant')\n",
    "clf"
   ]
  },
  {
   "cell_type": "code",
   "execution_count": 79,
   "metadata": {
    "colab": {
     "base_uri": "https://localhost:8080/",
     "height": 646
    },
    "colab_type": "code",
    "id": "Q4WFoxgASvnc",
    "outputId": "2d62fd04-f2cd-411e-b906-a0576bd4f6d4"
   },
   "outputs": [
    {
     "name": "stdout",
     "output_type": "stream",
     "text": [
      "-- Epoch 1\n",
      "Norm: 0.77, NNZs: 15, Bias: -0.316653, T: 37500, Avg. loss: 0.455552\n",
      "Total training time: 0.01 seconds.\n",
      "-- Epoch 2\n",
      "Norm: 0.91, NNZs: 15, Bias: -0.472747, T: 75000, Avg. loss: 0.394686\n",
      "Total training time: 0.02 seconds.\n",
      "-- Epoch 3\n",
      "Norm: 0.98, NNZs: 15, Bias: -0.580082, T: 112500, Avg. loss: 0.385711\n",
      "Total training time: 0.03 seconds.\n",
      "-- Epoch 4\n",
      "Norm: 1.02, NNZs: 15, Bias: -0.658292, T: 150000, Avg. loss: 0.382083\n",
      "Total training time: 0.04 seconds.\n",
      "-- Epoch 5\n",
      "Norm: 1.04, NNZs: 15, Bias: -0.719528, T: 187500, Avg. loss: 0.380486\n",
      "Total training time: 0.04 seconds.\n",
      "-- Epoch 6\n",
      "Norm: 1.05, NNZs: 15, Bias: -0.763409, T: 225000, Avg. loss: 0.379578\n",
      "Total training time: 0.05 seconds.\n",
      "-- Epoch 7\n",
      "Norm: 1.06, NNZs: 15, Bias: -0.795106, T: 262500, Avg. loss: 0.379150\n",
      "Total training time: 0.06 seconds.\n",
      "-- Epoch 8\n",
      "Norm: 1.06, NNZs: 15, Bias: -0.819925, T: 300000, Avg. loss: 0.378856\n",
      "Total training time: 0.07 seconds.\n",
      "-- Epoch 9\n",
      "Norm: 1.07, NNZs: 15, Bias: -0.837805, T: 337500, Avg. loss: 0.378585\n",
      "Total training time: 0.08 seconds.\n",
      "-- Epoch 10\n",
      "Norm: 1.08, NNZs: 15, Bias: -0.853138, T: 375000, Avg. loss: 0.378630\n",
      "Total training time: 0.08 seconds.\n",
      "Convergence after 10 epochs took 0.08 seconds\n"
     ]
    },
    {
     "data": {
      "text/plain": [
       "SGDClassifier(alpha=0.0001, average=False, class_weight=None,\n",
       "              early_stopping=False, epsilon=0.1, eta0=0.0001,\n",
       "              fit_intercept=True, l1_ratio=0.15, learning_rate='constant',\n",
       "              loss='log', max_iter=1000, n_iter_no_change=5, n_jobs=None,\n",
       "              penalty='l2', power_t=0.5, random_state=15, shuffle=True,\n",
       "              tol=0.001, validation_fraction=0.1, verbose=2, warm_start=False)"
      ]
     },
     "execution_count": 79,
     "metadata": {
      "tags": []
     },
     "output_type": "execute_result"
    }
   ],
   "source": [
    "clf.fit(X=X_train, y=y_train)"
   ]
  },
  {
   "cell_type": "code",
   "execution_count": 80,
   "metadata": {
    "colab": {
     "base_uri": "https://localhost:8080/",
     "height": 102
    },
    "colab_type": "code",
    "id": "7WaVxhGpSvnj",
    "outputId": "63c78d59-637b-41d2-9d32-8298f314258d"
   },
   "outputs": [
    {
     "data": {
      "text/plain": [
       "(array([[-0.42336692,  0.18547565, -0.14859036,  0.34144407, -0.2081867 ,\n",
       "          0.56016579, -0.45242483, -0.09408813,  0.2092732 ,  0.18084126,\n",
       "          0.19705191,  0.00421916, -0.0796037 ,  0.33852802,  0.02266721]]),\n",
       " (1, 15),\n",
       " array([-0.8531383]))"
      ]
     },
     "execution_count": 80,
     "metadata": {
      "tags": []
     },
     "output_type": "execute_result"
    }
   ],
   "source": [
    "clf.coef_, clf.coef_.shape, clf.intercept_"
   ]
  },
  {
   "cell_type": "markdown",
   "metadata": {
    "colab_type": "text",
    "id": "Su9e8fRLSvno"
   },
   "source": [
    " "
   ]
  },
  {
   "cell_type": "markdown",
   "metadata": {
    "colab_type": "text",
    "id": "gcz5_UqCSvnq"
   },
   "source": [
    " "
   ]
  },
  {
   "cell_type": "markdown",
   "metadata": {
    "colab_type": "text",
    "id": "UOBvEchCSvnr"
   },
   "source": [
    "## Implement Logistc Regression with L2 regularization Using SGD: without using sklearn"
   ]
  },
  {
   "cell_type": "markdown",
   "metadata": {
    "colab_type": "text",
    "id": "Xbn61rrXSvnt"
   },
   "source": [
    "### Instructions"
   ]
  },
  {
   "cell_type": "markdown",
   "metadata": {
    "colab_type": "text",
    "id": "14bA5yR3Svnv"
   },
   "source": [
    "- Load the datasets(train and test) into the respective arrays"
   ]
  },
  {
   "cell_type": "markdown",
   "metadata": {
    "colab_type": "text",
    "id": "c7183hFBSvnv"
   },
   "source": [
    "- Initialize the weight_vector and intercept term randomly"
   ]
  },
  {
   "cell_type": "markdown",
   "metadata": {
    "colab_type": "text",
    "id": "hdLeFU0USvnx"
   },
   "source": [
    "- Calculate the initlal log loss for the train and test data with the current weight and intercept and store it in a list"
   ]
  },
  {
   "cell_type": "markdown",
   "metadata": {
    "colab_type": "text",
    "id": "pEVtAlO1Svny"
   },
   "source": [
    "- for each epoch:\n",
    "    - for each batch of data points in train: (keep batch size=1)\n",
    "        - calculate the gradient of loss function w.r.t each weight in weight vector\n",
    "        - Calculate the gradient of the intercept <a href='https://drive.google.com/file/d/1nQ08-XY4zvOLzRX-lGf8EYB5arb7-m1H/view?usp=sharing'>check this</a>\n",
    "        - Update weights and intercept (check the equation number 32 in the above mentioned <a href='https://drive.google.com/file/d/1nQ08-XY4zvOLzRX-lGf8EYB5arb7-m1H/view?usp=sharing'>pdf</a>): <br>\n",
    "        $w^{(t+1)} ← (1 − \\frac{αλ}{N} )w^{(t)} + αx_n(y_n − σ((w^{(t)})^{T} x_n+b^{t}))$ <br>\n",
    "        $b^{(t+1)} ← (b^t +  α(y_n - σ((w^{(t)})^{T} x_n+b^{t}))$ \n",
    "        - calculate the log loss for train and test with the updated weights (you can check the python assignment 10th question)\n",
    "        - And if you wish, you can compare the previous loss and the current loss, if it is not updating, then\n",
    "        you can stop the training\n",
    "        - append this loss in the list ( this will be used to see how loss is changing for each epoch after the training is over )\n"
   ]
  },
  {
   "cell_type": "markdown",
   "metadata": {
    "colab_type": "text",
    "id": "2qmRH4UpSvny"
   },
   "source": [
    "- Plot the train and test loss i.e on x-axis the epoch number, and on y-axis the loss"
   ]
  },
  {
   "cell_type": "markdown",
   "metadata": {
    "colab_type": "text",
    "id": "lbZf9p5gSvn1"
   },
   "source": [
    "- <strong>GOAL</strong>: compare your implementation and SGDClassifier's the weights and intercept, make sure they are as close as possible i.e difference should be in terms of 10^-3"
   ]
  },
  {
   "cell_type": "code",
   "execution_count": 81,
   "metadata": {
    "colab": {
     "base_uri": "https://localhost:8080/",
     "height": 51
    },
    "colab_type": "code",
    "id": "Fpz8X5DMSvn2",
    "outputId": "b1945289-e53a-4160-8dc6-c16b1fcb9358"
   },
   "outputs": [
    {
     "name": "stdout",
     "output_type": "stream",
     "text": [
      "15\n",
      "15\n"
     ]
    }
   ],
   "source": [
    "w = np.zeros_like(X_train[0])\n",
    "b = 0\n",
    "eta0 = 0.0001\n",
    "alpha = 0.0001\n",
    "N = len(X_train)\n",
    "print(len(X_train[0]))\n",
    "print(len(w))"
   ]
  },
  {
   "cell_type": "code",
   "execution_count": 0,
   "metadata": {
    "colab": {},
    "colab_type": "code",
    "id": "B6Y5kVscSvn5"
   },
   "outputs": [],
   "source": [
    "#here is the sigmoid function\n",
    "def sigmoid(x,w,b):\n",
    "  z = np.dot(x,w.T)+b\n",
    "  return 1.0/(1+np.exp(-z))\n",
    "\n",
    "\n",
    "\n"
   ]
  },
  {
   "cell_type": "code",
   "execution_count": 0,
   "metadata": {
    "colab": {},
    "colab_type": "code",
    "id": "0XUfucUi89x7"
   },
   "outputs": [],
   "source": [
    "#here is the  log_loss function\n",
    "def log_loss(X,Y,W,B):\n",
    "    Sum=0\n",
    "    for i in range(0,len(X)):\n",
    "      y_score=sigmoid(X[i],W,B)\n",
    "      Sum=Sum+Y[i]*np.log(y_score)+(1-Y[i])*np.log(1-y_score)\n",
    "    return Sum*(-1/len(X))"
   ]
  },
  {
   "cell_type": "code",
   "execution_count": 84,
   "metadata": {
    "colab": {
     "base_uri": "https://localhost:8080/",
     "height": 51
    },
    "colab_type": "code",
    "id": "GrMSqYpOQPWK",
    "outputId": "e887383b-629b-4bbc-e766-d836eda4e8a9"
   },
   "outputs": [
    {
     "name": "stdout",
     "output_type": "stream",
     "text": [
      "intial_train_log_loss ==  0.6931471805594285\n",
      "intial_test_log_loss ==  0.6931471805600673\n"
     ]
    }
   ],
   "source": [
    "#calculating intial los_loss for train and test data.\n",
    "intial_train_log_loss =log_loss(X_train,y_train,w,b)\n",
    "intial_test_log_loss = log_loss(X_test,y_test,w,b)\n",
    "print(\"intial_train_log_loss == \",intial_train_log_loss)\n",
    "print(\"intial_test_log_loss == \",intial_test_log_loss)"
   ]
  },
  {
   "cell_type": "code",
   "execution_count": 85,
   "metadata": {
    "colab": {
     "base_uri": "https://localhost:8080/",
     "height": 1000
    },
    "colab_type": "code",
    "id": "ZBKrcnEHb-7N",
    "outputId": "4323449d-1115-4ef6-a0cb-15c3e6a1afc1"
   },
   "outputs": [
    {
     "name": "stdout",
     "output_type": "stream",
     "text": [
      "train log_loss for epoch 0  ==  0.40403290750563464\n",
      "----------------------------------------------------------------------------------------------------\n",
      "test log_loss for epoch 0 == 0.4051787115691764\n",
      "----------------------------------------------------------------------------------------------------\n",
      "train log_loss for epoch 1  ==  0.388404070036009\n",
      "----------------------------------------------------------------------------------------------------\n",
      "test log_loss for epoch 1 == 0.390080701406506\n",
      "----------------------------------------------------------------------------------------------------\n",
      "train log_loss for epoch 2  ==  0.38314908600186265\n",
      "----------------------------------------------------------------------------------------------------\n",
      "test log_loss for epoch 2 == 0.3850248161373018\n",
      "----------------------------------------------------------------------------------------------------\n",
      "train log_loss for epoch 3  ==  0.3807878200398666\n",
      "----------------------------------------------------------------------------------------------------\n",
      "test log_loss for epoch 3 == 0.38274328047897416\n",
      "----------------------------------------------------------------------------------------------------\n",
      "train log_loss for epoch 4  ==  0.3796069876788165\n",
      "----------------------------------------------------------------------------------------------------\n",
      "test log_loss for epoch 4 == 0.38159369360985645\n",
      "----------------------------------------------------------------------------------------------------\n",
      "train log_loss for epoch 5  ==  0.37898511706106136\n",
      "----------------------------------------------------------------------------------------------------\n",
      "test log_loss for epoch 5 == 0.3809828931580255\n",
      "----------------------------------------------------------------------------------------------------\n",
      "train log_loss for epoch 6  ==  0.37864814221008164\n",
      "----------------------------------------------------------------------------------------------------\n",
      "test log_loss for epoch 6 == 0.3806487512719458\n",
      "----------------------------------------------------------------------------------------------------\n",
      "train log_loss for epoch 7  ==  0.37846236154083357\n",
      "----------------------------------------------------------------------------------------------------\n",
      "test log_loss for epoch 7 == 0.38046266423049313\n",
      "----------------------------------------------------------------------------------------------------\n",
      "train log_loss for epoch 8  ==  0.378358763362984\n",
      "----------------------------------------------------------------------------------------------------\n",
      "test log_loss for epoch 8 == 0.38035776536048627\n",
      "----------------------------------------------------------------------------------------------------\n",
      "train log_loss for epoch 9  ==  0.37830052188546714\n",
      "----------------------------------------------------------------------------------------------------\n",
      "test log_loss for epoch 9 == 0.38029808814707217\n",
      "----------------------------------------------------------------------------------------------------\n",
      "train log_loss for epoch 10  ==  0.3782675741480116\n",
      "----------------------------------------------------------------------------------------------------\n",
      "test log_loss for epoch 10 == 0.38026387516983073\n",
      "----------------------------------------------------------------------------------------------------\n",
      "train log_loss for epoch 11  ==  0.3782488384285893\n",
      "----------------------------------------------------------------------------------------------------\n",
      "test log_loss for epoch 11 == 0.38024412027243043\n",
      "----------------------------------------------------------------------------------------------------\n",
      "train log_loss for epoch 12  ==  0.3782381345869121\n",
      "----------------------------------------------------------------------------------------------------\n",
      "test log_loss for epoch 12 == 0.3802326309692096\n",
      "----------------------------------------------------------------------------------------------------\n",
      "train log_loss for epoch 13  ==  0.378231991551629\n",
      "----------------------------------------------------------------------------------------------------\n",
      "test log_loss for epoch 13 == 0.3802258965686224\n",
      "----------------------------------------------------------------------------------------------------\n",
      "train log_loss for epoch 14  ==  0.3782284491330998\n",
      "----------------------------------------------------------------------------------------------------\n",
      "test log_loss for epoch 14 == 0.3802219143378415\n",
      "----------------------------------------------------------------------------------------------------\n",
      "train log_loss for epoch 15  ==  0.3782263954690964\n",
      "----------------------------------------------------------------------------------------------------\n",
      "test log_loss for epoch 15 == 0.38021953547679066\n",
      "----------------------------------------------------------------------------------------------------\n",
      "train log_loss for epoch 16  ==  0.37822519749393685\n",
      "----------------------------------------------------------------------------------------------------\n",
      "test log_loss for epoch 16 == 0.38021809752952734\n",
      "----------------------------------------------------------------------------------------------------\n",
      "train log_loss for epoch 17  ==  0.3782244935019806\n",
      "----------------------------------------------------------------------------------------------------\n",
      "test log_loss for epoch 17 == 0.3802172164027742\n",
      "----------------------------------------------------------------------------------------------------\n",
      "train log_loss for epoch 18  ==  0.378224076120547\n",
      "----------------------------------------------------------------------------------------------------\n",
      "test log_loss for epoch 18 == 0.3802166680599804\n",
      "----------------------------------------------------------------------------------------------------\n",
      "train log_loss for epoch 19  ==  0.3782238260258433\n",
      "----------------------------------------------------------------------------------------------------\n",
      "test log_loss for epoch 19 == 0.38021632092120833\n",
      "----------------------------------------------------------------------------------------------------\n",
      "train log_loss for epoch 20  ==  0.37822367427659426\n",
      "----------------------------------------------------------------------------------------------------\n",
      "test log_loss for epoch 20 == 0.38021609707902754\n",
      "----------------------------------------------------------------------------------------------------\n",
      "train log_loss for epoch 21  ==  0.3782235808490689\n",
      "----------------------------------------------------------------------------------------------------\n",
      "test log_loss for epoch 21 == 0.3802159499590507\n",
      "----------------------------------------------------------------------------------------------------\n",
      "train log_loss for epoch 22  ==  0.3782235223727262\n",
      "----------------------------------------------------------------------------------------------------\n",
      "test log_loss for epoch 22 == 0.3802158513994314\n",
      "----------------------------------------------------------------------------------------------------\n",
      "train log_loss for epoch 23  ==  0.3782234851045095\n",
      "----------------------------------------------------------------------------------------------------\n",
      "test log_loss for epoch 23 == 0.3802157841437289\n",
      "----------------------------------------------------------------------------------------------------\n",
      "train log_loss for epoch 24  ==  0.3782234608930447\n",
      "----------------------------------------------------------------------------------------------------\n",
      "test log_loss for epoch 24 == 0.3802157374558484\n",
      "----------------------------------------------------------------------------------------------------\n",
      "optomized w [-4.29657219e-01  1.92993106e-01 -1.48427055e-01  3.38103883e-01\n",
      " -2.21092230e-01  5.69863286e-01 -4.45184638e-01 -8.99472184e-02\n",
      "  2.21747438e-01  1.73749475e-01  1.98675572e-01 -5.17009955e-04\n",
      " -8.12587576e-02  3.39089377e-01  2.29658236e-02]\n",
      "optimized b -0.8912724453007421\n"
     ]
    }
   ],
   "source": [
    "# findind optimal w and b\n",
    "import random  \n",
    "Train_loss=[]\n",
    "Test_loss=[]\n",
    "for epoch in range(0,25):\n",
    "  \n",
    "  for i in range(0,N):\n",
    "      w = (1-((alpha*eta0)/N))*w+(alpha*X_train[i])*(y_train[i]-sigmoid(X_train[i],w,b))\n",
    "      b = b+(alpha)*(y_train[i]-sigmoid(X_train[i],w,b)) \n",
    "  \n",
    "  train_loss = log_loss(X_train,y_train,w,b)\n",
    "  print(\"train log_loss for epoch\",epoch,\" == \",train_loss)\n",
    "  Train_loss.append(train_loss)\n",
    "  test_loss = log_loss(X_test,y_test,w,b)\n",
    "  print('--'*50)\n",
    "  print(\"test log_loss for epoch\",epoch,\"==\",test_loss)\n",
    "  print(\"--\"*50)\n",
    "  Test_loss.append(test_loss)\n",
    "    \n",
    "\n",
    "print(\"optomized w\",w)\n",
    "print(\"optimized b\",b)       "
   ]
  },
  {
   "cell_type": "code",
   "execution_count": 86,
   "metadata": {
    "colab": {
     "base_uri": "https://localhost:8080/",
     "height": 295
    },
    "colab_type": "code",
    "id": "DIsuSilI5gg-",
    "outputId": "22efe49d-0a96-4195-a42a-16a16823530d"
   },
   "outputs": [
    {
     "data": {
      "image/png": "[encoded data removed]",
      "text/plain": [
       "<Figure size 432x288 with 1 Axes>"
      ]
     },
     "metadata": {
      "needs_background": "light",
      "tags": []
     },
     "output_type": "display_data"
    }
   ],
   "source": [
    "#plot log_loss vs epoch\n",
    "import matplotlib.pyplot as plt\n",
    "a=list(range(0,25))\n",
    "plt.plot(a,Train_loss,label='Train_loss ')\n",
    "plt.plot(a,Test_loss,label='Test_loss')\n",
    "plt.xlabel(\"epoch\")\n",
    "plt.ylabel(\"log_loss\")\n",
    "plt.title(\"log_loss vs epoch\")\n",
    "plt.legend()\n",
    "plt.grid()\n",
    "plt.show()"
   ]
  },
  {
   "cell_type": "code",
   "execution_count": 87,
   "metadata": {
    "colab": {
     "base_uri": "https://localhost:8080/",
     "height": 85
    },
    "colab_type": "code",
    "id": "Yy8jWaa7Svn_",
    "outputId": "9e143980-ea82-4d22-b135-d2e14b369585",
    "scrolled": true
   },
   "outputs": [
    {
     "data": {
      "text/plain": [
       "(array([[-0.0062903 ,  0.00751745,  0.0001633 , -0.00334019, -0.01290553,\n",
       "          0.0096975 ,  0.00724019,  0.00414091,  0.01247424, -0.00709179,\n",
       "          0.00162367, -0.00473617, -0.00165506,  0.00056136,  0.00029861]]),\n",
       " array([-0.03813415]))"
      ]
     },
     "execution_count": 87,
     "metadata": {
      "tags": []
     },
     "output_type": "execute_result"
    }
   ],
   "source": [
    "# these are the results we got after we implemented sgd and found the optimal weights and intercept\n",
    "w-clf.coef_, b-clf.intercept_"
   ]
  },
  {
   "cell_type": "code",
   "execution_count": 88,
   "metadata": {
    "colab": {
     "base_uri": "https://localhost:8080/",
     "height": 51
    },
    "colab_type": "code",
    "id": "48gx6wQKSvoE",
    "outputId": "c45cff93-85ec-4261-bbed-460f2b3b2a4e"
   },
   "outputs": [
    {
     "name": "stdout",
     "output_type": "stream",
     "text": [
      "0.95224\n",
      "0.95\n"
     ]
    }
   ],
   "source": [
    "def pred(w,b, X):\n",
    "    N = len(X)\n",
    "    predict = []\n",
    "    for i in range(N):\n",
    "        if sigmoid(w, X[i], b) >= 0.5: # sigmoid(w,x,b) returns 1/(1+exp(-(dot(x,w)+b)))\n",
    "            predict.append(1)\n",
    "        else:\n",
    "            predict.append(0)\n",
    "    return np.array(predict)\n",
    "print(1-np.sum(y_train - pred(w,b,X_train))/len(X_train))\n",
    "print(1-np.sum(y_test  - pred(w,b,X_test))/len(X_test))"
   ]
  }
 ],
 "metadata": {
  "colab": {
   "collapsed_sections": [],
   "name": "Copy of Logistic Regression using SGD.ipynb",
   "provenance": []
  },
  "kernelspec": {
   "display_name": "Python 3",
   "language": "python",
   "name": "python3"
  },
  "language_info": {
   "codemirror_mode": {
    "name": "ipython",
    "version": 3
   },
   "file_extension": ".py",
   "mimetype": "text/x-python",
   "name": "python",
   "nbconvert_exporter": "python",
   "pygments_lexer": "ipython3",
   "version": "3.7.4"
  }
 },
 "nbformat": 4,
 "nbformat_minor": 1
}
